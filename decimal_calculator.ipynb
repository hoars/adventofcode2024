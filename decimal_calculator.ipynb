{
  "metadata": {
    "kernelspec": {
      "name": "python",
      "display_name": "Python (Pyodide)",
      "language": "python"
    },
    "language_info": {
      "codemirror_mode": {
        "name": "python",
        "version": 3
      },
      "file_extension": ".py",
      "mimetype": "text/x-python",
      "name": "python",
      "nbconvert_exporter": "python",
      "pygments_lexer": "ipython3",
      "version": "3.8"
    }
  },
  "nbformat_minor": 4,
  "nbformat": 4,
  "cells": [
    {
      "cell_type": "code",
      "source": "import pandas as pd",
      "metadata": {
        "trusted": true
      },
      "outputs": [],
      "execution_count": 247
    },
    {
      "cell_type": "code",
      "source": "with open(\"input2.txt\") as file:\n    lines = [line.replace(\"\\n\",\"\") for line in file]",
      "metadata": {
        "trusted": true
      },
      "outputs": [],
      "execution_count": 248
    },
    {
      "cell_type": "code",
      "source": "xys_dict = {}\nlogic_wires = []\nfor line in lines:\n    if \":\" in line:\n        key = line.split(\":\")[0]\n        value = int(line.split(\":\")[1])\n        xys_dict[key] = value\n    elif line==\"\":\n        # trash line to remove this empty string because im a simpleton and dont want to figure out better way to do\n        print(line)\n    else:\n        logic_wires.append(line)",
      "metadata": {
        "trusted": true
      },
      "outputs": [
        {
          "name": "stdout",
          "text": "",
          "output_type": "stream"
        },
        {
          "name": "stdout",
          "text": "\n",
          "output_type": "stream"
        }
      ],
      "execution_count": 249
    },
    {
      "cell_type": "code",
      "source": "logic_wires = [wire.split(\" \") for wire in logic_wires]",
      "metadata": {
        "trusted": true
      },
      "outputs": [],
      "execution_count": 250
    },
    {
      "cell_type": "code",
      "source": "sw1 = [i for i,wire in enumerate(logic_wires) if 'z14' in wire[4]][0]\n\nsw2 = [i for i,wire in enumerate(logic_wires) if 'hbk' in wire[4]][0]\n\n# swap 1: hbk, z14\n\nswap1 = logic_wires[sw1][4]\nswap2 = logic_wires[sw2][4]\n\nlogic_wires[sw2][4] = swap1\nlogic_wires[sw1][4] = swap2",
      "metadata": {
        "trusted": true
      },
      "outputs": [],
      "execution_count": 251
    },
    {
      "cell_type": "code",
      "source": "sw3 = [i for i,wire in enumerate(logic_wires) if 'fgr' in wire[2] or 'fgr' in wire[0] and 'XOR' in wire[1]][0] # kvn\nsw4 = [i for i,wire in enumerate(logic_wires) if 'y18' in wire[0] or 'y18' in wire[2] and 'AND' in wire[1]][0] # z18 \n\n# swap 2: kvn, z18\n\nswap3 = logic_wires[sw3][4]\nswap4 = logic_wires[sw4][4]\n\nlogic_wires[sw4][4] = swap3\nlogic_wires[sw3][4] = swap4",
      "metadata": {
        "trusted": true
      },
      "outputs": [],
      "execution_count": 252
    },
    {
      "cell_type": "code",
      "source": "sw5 = [i for i,wire in enumerate(logic_wires) if 'dvw' in wire[0] or 'dvw' in wire[2]][0]\nsw6 = [i for i,wire in enumerate(logic_wires) if 'dvw' in wire[0] or 'dvw' in wire[2]][1]\n\n# swap 3: dbb, z23\n\nswap5 = logic_wires[sw5][4]\nswap6 = logic_wires[sw6][4]\n\nlogic_wires[sw6][4] = swap5\nlogic_wires[sw5][4] = swap6",
      "metadata": {
        "trusted": true
      },
      "outputs": [],
      "execution_count": 253
    },
    {
      "cell_type": "code",
      "source": "sw7 = [i for i,wire in enumerate(logic_wires) if 'y34' in wire[0] or 'y34' in wire[2]][0]\nsw8 = [i for i,wire in enumerate(logic_wires) if 'y34' in wire[0] or 'y34' in wire[2]][1]\n\n# swap 4: tfn, cvh\n\nswap7 = logic_wires[sw7][4]\nswap8 = logic_wires[sw8][4]\n\nlogic_wires[sw8][4] = swap7\nlogic_wires[sw7][4] = swap8",
      "metadata": {
        "trusted": true
      },
      "outputs": [],
      "execution_count": 254
    },
    {
      "cell_type": "code",
      "source": "logics={\"OR\":\"|\", \"AND\":\"&\", \"XOR\":\"^\"}\ndef logic(a,b,x):\n    answer=eval(f\"{a} {logics[x]} {b}\")\n    return answer\n    ",
      "metadata": {
        "trusted": true
      },
      "outputs": [],
      "execution_count": 255
    },
    {
      "cell_type": "code",
      "source": "keep_going=True\nwhile keep_going:\n    needs_another_round=[]\n    for logic_list in logic_wires:\n        try:\n            xys_dict[logic_list[4]]=logic(xys_dict[logic_list[0]], xys_dict[logic_list[2]], logic_list[1])\n        except:\n            needs_another_round.append(logic_list)\n    if len(needs_another_round)==0:\n        keep_going= False\n        ",
      "metadata": {
        "trusted": true
      },
      "outputs": [],
      "execution_count": 256
    },
    {
      "cell_type": "code",
      "source": "decimal = 0\nfor key in xys_dict.keys():\n    if key.startswith(\"z\"):\n        decimal = decimal + xys_dict[key] * (2**int(key.replace(\"z\",\"\")))",
      "metadata": {
        "trusted": true
      },
      "outputs": [],
      "execution_count": 257
    },
    {
      "cell_type": "code",
      "source": "print(decimal)",
      "metadata": {
        "trusted": true
      },
      "outputs": [
        {
          "name": "stdout",
          "text": "70368744177662\n",
          "output_type": "stream"
        }
      ],
      "execution_count": 258
    },
    {
      "cell_type": "code",
      "source": "x_decimal = 0\nfor key in xys_dict.keys():\n    if key.startswith(\"x\"):\n        x_decimal = x_decimal + xys_dict[key] * (2**int(key.replace(\"x\",\"\")))\nprint(x_decimal)",
      "metadata": {
        "trusted": true
      },
      "outputs": [
        {
          "name": "stdout",
          "text": "35184372088831\n",
          "output_type": "stream"
        }
      ],
      "execution_count": 259
    },
    {
      "cell_type": "code",
      "source": "y_decimal = 0\nfor key in xys_dict.keys():\n    if key.startswith(\"y\"):\n        y_decimal = y_decimal + xys_dict[key] * (2**int(key.replace(\"y\",\"\")))\nprint(y_decimal)",
      "metadata": {
        "trusted": true
      },
      "outputs": [
        {
          "name": "stdout",
          "text": "35184372088831\n",
          "output_type": "stream"
        }
      ],
      "execution_count": 260
    },
    {
      "cell_type": "code",
      "source": "print(x_decimal+y_decimal)",
      "metadata": {
        "trusted": true
      },
      "outputs": [
        {
          "name": "stdout",
          "text": "70368744177662\n",
          "output_type": "stream"
        }
      ],
      "execution_count": 261
    },
    {
      "cell_type": "code",
      "source": "decimal - (x_decimal+y_decimal)",
      "metadata": {
        "trusted": true
      },
      "outputs": [
        {
          "execution_count": 262,
          "output_type": "execute_result",
          "data": {
            "text/plain": "0"
          },
          "metadata": {}
        }
      ],
      "execution_count": 262
    },
    {
      "cell_type": "code",
      "source": "swaps = [\"hbk\", \"z14\", \"kvn\",\"z18\",\"dbb\", \"z23\",\"tfn\", \"cvh\"]\nswaps.sort()",
      "metadata": {
        "trusted": true
      },
      "outputs": [],
      "execution_count": 267
    },
    {
      "cell_type": "code",
      "source": "for s in swaps:\n    print(s, end=\",\")",
      "metadata": {
        "trusted": true
      },
      "outputs": [
        {
          "name": "stdout",
          "text": "cvh,dbb,hbk,kvn,tfn,z14,z18,z23,",
          "output_type": "stream"
        }
      ],
      "execution_count": 268
    },
    {
      "cell_type": "markdown",
      "source": "# Scratch work",
      "metadata": {}
    },
    {
      "cell_type": "code",
      "source": "zs =[]\nfor wire in logic_wires:\n    for i in range(15):\n        if \"z\" and f\"{i}\" in wire[4]:\n            zs.append(wire)",
      "metadata": {
        "trusted": true
      },
      "outputs": [],
      "execution_count": 6
    },
    {
      "cell_type": "code",
      "source": "zs = [wire for wire in logic_wires if \"z\" in wire[4]]",
      "metadata": {
        "trusted": true
      },
      "outputs": [],
      "execution_count": 7
    },
    {
      "cell_type": "code",
      "source": "zs",
      "metadata": {
        "trusted": true,
        "collapsed": true,
        "jupyter": {
          "outputs_hidden": true
        },
        "scrolled": true
      },
      "outputs": [
        {
          "execution_count": 8,
          "output_type": "execute_result",
          "data": {
            "text/plain": "[['bhd', 'XOR', 'mmh', '->', 'z06'],\n ['fkc', 'XOR', 'bwj', '->', 'z22'],\n ['drc', 'XOR', 'qqt', '->', 'z44'],\n ['cjf', 'OR', 'pfk', '->', 'z45'],\n ['hgq', 'XOR', 'phb', '->', 'z27'],\n ['cjb', 'XOR', 'srm', '->', 'z19'],\n ['jss', 'XOR', 'cqv', '->', 'z35'],\n ['cqm', 'XOR', 'qqj', '->', 'z43'],\n ['nbk', 'XOR', 'wrk', '->', 'z05'],\n ['dvw', 'AND', 'rpg', '->', 'z23'],\n ['bqc', 'XOR', 'fwr', '->', 'z26'],\n ['dwh', 'XOR', 'kqn', '->', 'z41'],\n ['rjm', 'XOR', 'gjr', '->', 'z24'],\n ['cdr', 'XOR', 'cmt', '->', 'z10'],\n ['mnm', 'XOR', 'vhv', '->', 'z39'],\n ['fbv', 'XOR', 'bwg', '->', 'z38'],\n ['ckn', 'XOR', 'hqq', '->', 'z07'],\n ['y18', 'AND', 'x18', '->', 'z18'],\n ['jfw', 'XOR', 'gnj', '->', 'z01'],\n ['fvh', 'XOR', 'sfk', '->', 'z12'],\n ['fds', 'XOR', 'djd', '->', 'z25'],\n ['qwt', 'XOR', 'jqm', '->', 'z32'],\n ['bvp', 'XOR', 'dsp', '->', 'z36'],\n ['bnh', 'XOR', 'kss', '->', 'z37'],\n ['hjs', 'XOR', 'hgd', '->', 'z28'],\n ['djp', 'XOR', 'mft', '->', 'z03'],\n ['hbk', 'XOR', 'bkb', '->', 'z15'],\n ['ndd', 'XOR', 'jgw', '->', 'z02'],\n ['nhr', 'XOR', 'hqs', '->', 'z30'],\n ['x00', 'XOR', 'y00', '->', 'z00'],\n ['fgv', 'XOR', 'mfm', '->', 'z42'],\n ['rnt', 'XOR', 'qbs', '->', 'z11'],\n ['kdh', 'XOR', 'qvq', '->', 'z31'],\n ['cnb', 'XOR', 'wmb', '->', 'z21'],\n ['npm', 'XOR', 'vtk', '->', 'z04'],\n ['kfk', 'XOR', 'chk', '->', 'z16'],\n ['mqf', 'XOR', 'cvh', '->', 'z34'],\n ['jdq', 'XOR', 'dkd', '->', 'z29'],\n ['sjr', 'OR', 'tck', '->', 'z14'],\n ['vkn', 'XOR', 'vkg', '->', 'z40'],\n ['kbh', 'XOR', 'jqc', '->', 'z17'],\n ['tjb', 'XOR', 'wmt', '->', 'z09'],\n ['gqs', 'XOR', 'hnf', '->', 'z08'],\n ['nwn', 'XOR', 'vdh', '->', 'z20'],\n ['cbr', 'XOR', 'mqm', '->', 'z13'],\n ['rmt', 'XOR', 'gtm', '->', 'z33']]"
          },
          "metadata": {}
        }
      ],
      "execution_count": 8
    },
    {
      "cell_type": "code",
      "source": "xors = [wire for wire in logic_wires if \"XOR\" in wire[1] and (\"y\" in wire[2] or \"x\" in wire[2]) ]",
      "metadata": {
        "trusted": true
      },
      "outputs": [],
      "execution_count": 9
    },
    {
      "cell_type": "code",
      "source": "xors",
      "metadata": {
        "trusted": true
      },
      "outputs": [
        {
          "execution_count": 10,
          "output_type": "execute_result",
          "data": {
            "text/plain": "[['x44', 'XOR', 'y44', '->', 'drc'],\n ['y40', 'XOR', 'x40', '->', 'vkn'],\n ['x21', 'XOR', 'y21', '->', 'cnb'],\n ['y32', 'XOR', 'x32', '->', 'qwt'],\n ['x18', 'XOR', 'y18', '->', 'grp'],\n ['y14', 'XOR', 'x14', '->', 'dfb'],\n ['x15', 'XOR', 'y15', '->', 'bkb'],\n ['x22', 'XOR', 'y22', '->', 'bwj'],\n ['x08', 'XOR', 'y08', '->', 'hnf'],\n ['y39', 'XOR', 'x39', '->', 'mnm'],\n ['y05', 'XOR', 'x05', '->', 'wrk'],\n ['x28', 'XOR', 'y28', '->', 'hgd'],\n ['x33', 'XOR', 'y33', '->', 'gtm'],\n ['y35', 'XOR', 'x35', '->', 'jss'],\n ['x36', 'XOR', 'y36', '->', 'dsp'],\n ['y41', 'XOR', 'x41', '->', 'dwh'],\n ['y38', 'XOR', 'x38', '->', 'bwg'],\n ['x31', 'XOR', 'y31', '->', 'qvq'],\n ['x17', 'XOR', 'y17', '->', 'kbh'],\n ['y24', 'XOR', 'x24', '->', 'gjr'],\n ['x26', 'XOR', 'y26', '->', 'fwr'],\n ['y12', 'XOR', 'x12', '->', 'fvh'],\n ['y37', 'XOR', 'x37', '->', 'bnh'],\n ['y07', 'XOR', 'x07', '->', 'hqq'],\n ['y43', 'XOR', 'x43', '->', 'cqm'],\n ['y19', 'XOR', 'x19', '->', 'srm'],\n ['y09', 'XOR', 'x09', '->', 'tjb'],\n ['x00', 'XOR', 'y00', '->', 'z00'],\n ['y42', 'XOR', 'x42', '->', 'mfm'],\n ['x25', 'XOR', 'y25', '->', 'djd'],\n ['x16', 'XOR', 'y16', '->', 'chk'],\n ['y30', 'XOR', 'x30', '->', 'hqs'],\n ['y11', 'XOR', 'x11', '->', 'rnt'],\n ['y13', 'XOR', 'x13', '->', 'cbr'],\n ['y06', 'XOR', 'x06', '->', 'mmh'],\n ['y02', 'XOR', 'x02', '->', 'jgw'],\n ['x27', 'XOR', 'y27', '->', 'phb'],\n ['x03', 'XOR', 'y03', '->', 'mft'],\n ['x10', 'XOR', 'y10', '->', 'cmt'],\n ['x34', 'XOR', 'y34', '->', 'tfn'],\n ['y20', 'XOR', 'x20', '->', 'nwn'],\n ['y29', 'XOR', 'x29', '->', 'dkd'],\n ['y23', 'XOR', 'x23', '->', 'rpg'],\n ['x04', 'XOR', 'y04', '->', 'vtk'],\n ['y01', 'XOR', 'x01', '->', 'gnj']]"
          },
          "metadata": {}
        }
      ],
      "execution_count": 10
    },
    {
      "cell_type": "code",
      "source": "lw_z14 = [wire for wire in logic_wires if 'sjr' in wire[0] or' sjr' in wire[2]]",
      "metadata": {
        "trusted": true
      },
      "outputs": [],
      "execution_count": 11
    },
    {
      "cell_type": "code",
      "source": "lw_z14",
      "metadata": {
        "trusted": true
      },
      "outputs": [
        {
          "execution_count": 12,
          "output_type": "execute_result",
          "data": {
            "text/plain": "[['sjr', 'OR', 'tck', '->', 'z14']]"
          },
          "metadata": {}
        }
      ],
      "execution_count": 12
    },
    {
      "cell_type": "code",
      "source": "[wire for wire in logic_wires if 'y14' in wire[0] or 'x14' in wire[2]]",
      "metadata": {
        "trusted": true
      },
      "outputs": [
        {
          "execution_count": 13,
          "output_type": "execute_result",
          "data": {
            "text/plain": "[['y14', 'XOR', 'x14', '->', 'dfb'], ['y14', 'AND', 'x14', '->', 'tck']]"
          },
          "metadata": {}
        }
      ],
      "execution_count": 13
    },
    {
      "cell_type": "code",
      "source": "[wire for wire in logic_wires if 'dvw' in wire[0] or 'dvw' in wire[2]]",
      "metadata": {
        "trusted": true
      },
      "outputs": [
        {
          "execution_count": 14,
          "output_type": "execute_result",
          "data": {
            "text/plain": "[['dvw', 'AND', 'rpg', '->', 'z23'], ['dvw', 'XOR', 'rpg', '->', 'dbb']]"
          },
          "metadata": {}
        }
      ],
      "execution_count": 14
    },
    {
      "cell_type": "code",
      "source": "[wire for wire in logic_wires if 'bfn' in wire[4]]",
      "metadata": {
        "trusted": true
      },
      "outputs": [
        {
          "execution_count": 15,
          "output_type": "execute_result",
          "data": {
            "text/plain": "[['wjj', 'OR', 'scs', '->', 'bfn']]"
          },
          "metadata": {}
        }
      ],
      "execution_count": 15
    },
    {
      "cell_type": "code",
      "source": "logic_wires_13 = [i for i, wire in enumerate(logic_wires) if \"00\" in wire[0] or \"00\" in wire[2]]\nlogic_wires_13_21 = [i for i, wire in enumerate(logic_wires) if 'jfw' in wire[0] or 'jfw' in wire[2]]\nlogic_wires_13_22 = [i for i, wire in enumerate(logic_wires) if 'gnj' in wire[4] or 'gnj' in wire[4]]\nlogic_wires_13_31 = [i for i, wire in enumerate(logic_wires) if 'spq' in wire[0] or 'spq' in wire[2]]\nlogic_wires_13_32 = [i for i, wire in enumerate(logic_wires) if 'ntt' in wire[4] or 'ntt' in wire[4]]\nlogic_wires_13_41 = [i for i, wire in enumerate(logic_wires) if 'ndd' in wire[0] or 'ndd' in wire[2]]\nlogic_wires_13_42 = [i for i, wire in enumerate(logic_wires) if 'jgw' in wire[4] or 'jgw' in wire[4]]",
      "metadata": {
        "trusted": true
      },
      "outputs": [],
      "execution_count": 16
    },
    {
      "cell_type": "code",
      "source": "logic_wires[logic_wires_13[0]], logic_wires[logic_wires_13[1]]",
      "metadata": {
        "trusted": true
      },
      "outputs": [
        {
          "execution_count": 17,
          "output_type": "execute_result",
          "data": {
            "text/plain": "(['x00', 'AND', 'y00', '->', 'jfw'], ['x00', 'XOR', 'y00', '->', 'z00'])"
          },
          "metadata": {}
        }
      ],
      "execution_count": 17
    },
    {
      "cell_type": "code",
      "source": "logic_wires[logic_wires_13_21[0]], logic_wires[logic_wires_13_21[1]]",
      "metadata": {
        "trusted": true
      },
      "outputs": [
        {
          "execution_count": 18,
          "output_type": "execute_result",
          "data": {
            "text/plain": "(['gnj', 'AND', 'jfw', '->', 'spq'], ['jfw', 'XOR', 'gnj', '->', 'z01'])"
          },
          "metadata": {}
        }
      ],
      "execution_count": 18
    },
    {
      "cell_type": "code",
      "source": "logic_wires[logic_wires_13_22[0]]",
      "metadata": {
        "trusted": true
      },
      "outputs": [
        {
          "execution_count": 19,
          "output_type": "execute_result",
          "data": {
            "text/plain": "['y01', 'XOR', 'x01', '->', 'gnj']"
          },
          "metadata": {}
        }
      ],
      "execution_count": 19
    },
    {
      "cell_type": "code",
      "source": "[wire for wire in logic_wires if 'y34' in wire[0] or 'y34' in wire[2]]",
      "metadata": {
        "trusted": true
      },
      "outputs": [
        {
          "execution_count": 226,
          "output_type": "execute_result",
          "data": {
            "text/plain": "[['y34', 'AND', 'x34', '->', 'cvh'], ['x34', 'XOR', 'y34', '->', 'tfn']]"
          },
          "metadata": {}
        }
      ],
      "execution_count": 226
    },
    {
      "cell_type": "code",
      "source": "[wire for wire in logic_wires if 'z34' in wire[4]]",
      "metadata": {
        "trusted": true
      },
      "outputs": [
        {
          "execution_count": 227,
          "output_type": "execute_result",
          "data": {
            "text/plain": "[['mqf', 'XOR', 'cvh', '->', 'z34']]"
          },
          "metadata": {}
        }
      ],
      "execution_count": 227
    },
    {
      "cell_type": "code",
      "source": "[wire for wire in logic_wires if 'mqf' in wire[2] or 'mqf' in wire[0]]",
      "metadata": {
        "trusted": true
      },
      "outputs": [
        {
          "execution_count": 228,
          "output_type": "execute_result",
          "data": {
            "text/plain": "[['mqf', 'AND', 'cvh', '->', 'trj'], ['mqf', 'XOR', 'cvh', '->', 'z34']]"
          },
          "metadata": {}
        }
      ],
      "execution_count": 228
    },
    {
      "cell_type": "code",
      "source": "[wire for wire in logic_wires if 'cht' in wire[2] or 'cht' in wire[0]]",
      "metadata": {
        "trusted": true
      },
      "outputs": [
        {
          "execution_count": 230,
          "output_type": "execute_result",
          "data": {
            "text/plain": "[['cht', 'OR', 'mkv', '->', 'mqf']]"
          },
          "metadata": {}
        }
      ],
      "execution_count": 230
    },
    {
      "cell_type": "markdown",
      "source": "                                      qwt XOR jqm = z32\n                                      qwt AND jqm = fdk \ny02 AND x02 = nbb\n\ny33 XOR x33 = gtm\ny33 AND x33 = cht\n                    nbb OR fdk = rmt\n                                      rmt XOR gtm = z33\n                                      rmt AND gtm = mkv\ny34 XOR y34 = tfn\ny34 AND y34 = cvh\n                    cht OR mkv = mqf\n                                      mqf XOR cvh = z34\n                                      mqf AND cvh = trj   \n\n    ",
      "metadata": {}
    },
    {
      "cell_type": "markdown",
      "source": "###\nx00 XOR y00 = z00\nx00 AND y00 = jfw\n                    jfw XOR gnj = z01\n                    jfw AND gnj = spq\ny01 XOR x01 = gnj\ny01 AND x01 = ntt\n\ny02 XOR x02 = jgw\ny02 AND x02 = dpc\n                    ntt OR spq = ndd\n                                      ndd XOR jgw = z02\n                                      ndd AND jgw = qnq\ny03 XOR y03 = mft\ny03 AND y03 = sqm\n                    dpc OR qnq = djp\n                                      djp XOR mft = z03\n                                      djp AND mft = tvh      ",
      "metadata": {}
    },
    {
      "cell_type": "code",
      "source": "8192*2",
      "metadata": {
        "trusted": true
      },
      "outputs": [
        {
          "execution_count": 41,
          "output_type": "execute_result",
          "data": {
            "text/plain": "16384"
          },
          "metadata": {}
        }
      ],
      "execution_count": 41
    },
    {
      "cell_type": "code",
      "source": "for key in xys_dict.keys():\n    if key.startswith(\"z\"):\n        print(f\"{key}: {xys_dict[key]}\")",
      "metadata": {
        "trusted": true
      },
      "outputs": [
        {
          "name": "stdout",
          "text": "z18: 0\nz00: 0\nz01: 1\nz02: 1\nz03: 1\nz04: 1\nz05: 1\nz06: 1\nz07: 1\nz08: 1\nz09: 1\nz10: 1\nz11: 1\nz12: 1\nz13: 1\nz14: 1\nz15: 0\nz16: 0\nz17: 0\nz19: 0\nz20: 0\nz21: 0\nz22: 0\nz23: 0\nz24: 0\nz25: 0\nz26: 0\nz27: 0\nz28: 0\nz29: 0\nz30: 0\nz31: 0\nz32: 0\nz33: 0\nz34: 0\nz35: 0\nz36: 0\nz37: 0\nz38: 0\nz39: 0\nz40: 0\nz41: 0\nz42: 0\nz44: 0\nz43: 0\nz45: 0\n",
          "output_type": "stream"
        }
      ],
      "execution_count": 42
    },
    {
      "cell_type": "code",
      "source": "",
      "metadata": {
        "trusted": true
      },
      "outputs": [],
      "execution_count": null
    }
  ]
}